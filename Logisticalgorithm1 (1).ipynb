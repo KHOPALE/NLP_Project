{
  "cells": [
    {
      "cell_type": "markdown",
      "source": [
        "## **Problem Statement:**\n",
        "\n",
        "The problem involves classifying consumer complaints related to financial products into specific categories. The dataset contains complaints on various financial products, such as credit reporting, loans, credit cards, and more. The objective is to develop a classification model that can accurately categorize these complaints, enabling banking and financial institutions to efficiently address customer issues and provide tailored solutions based on the type of complaint."
      ],
      "metadata": {
        "id": "RAJLmTaCOH_o"
      }
    },
    {
      "cell_type": "markdown",
      "source": [
        "**Libraries**"
      ],
      "metadata": {
        "id": "SA6RW5Z-ORKR"
      }
    },
    {
      "cell_type": "code",
      "execution_count": null,
      "metadata": {
        "id": "PwysXGmNtcY4",
        "colab": {
          "base_uri": "https://localhost:8080/"
        },
        "outputId": "ca4c4874-1bbe-4d52-8c3a-5158be866839"
      },
      "outputs": [
        {
          "output_type": "stream",
          "name": "stderr",
          "text": [
            "[nltk_data] Downloading package stopwords to /root/nltk_data...\n",
            "[nltk_data]   Unzipping corpora/stopwords.zip.\n",
            "[nltk_data] Downloading package wordnet to /root/nltk_data...\n"
          ]
        }
      ],
      "source": [
        "import numpy as np\n",
        "import pandas as pd\n",
        "from sklearn.feature_extraction.text import TfidfVectorizer\n",
        "import sklearn.feature_extraction.text as text\n",
        "from sklearn import model_selection, preprocessing, linear_model, naive_bayes, metrics, svm\n",
        "from sklearn.naive_bayes import MultinomialNB\n",
        "from sklearn.linear_model import LogisticRegression\n",
        "from sklearn.ensemble import RandomForestClassifier\n",
        "from sklearn.svm import LinearSVC\n",
        "from sklearn.model_selection import cross_val_score\n",
        "from sklearn.model_selection import train_test_split\n",
        "\n",
        "# from textblob import TextBlob\n",
        "# from nltk.stem import PorterStemmer,SnowballStemmer\n",
        "from textblob import Word\n",
        "from sklearn.feature_extraction.text import CountVectorizer,TfidfVectorizer\n",
        "from nltk.corpus import stopwords\n",
        "from nltk.tokenize import sent_tokenize, word_tokenize\n",
        "from nltk.tokenize.toktok import ToktokTokenizer\n",
        "\n",
        "from io import StringIO\n",
        "import os\n",
        "import string\n",
        "import gensim\n",
        "from gensim.models import Word2Vec\n",
        "import itertools\n",
        "import scipy\n",
        "from scipy import spatial\n",
        "import seaborn as sns\n",
        "import matplotlib.pyplot as plt\n",
        "import re\n",
        "import nltk\n",
        "nltk.download('stopwords')\n",
        "nltk.download('wordnet')\n",
        "stopword_list = nltk.corpus.stopwords.words('english')\n",
        "tokenizer = ToktokTokenizer()\n",
        "import warnings\n",
        "warnings.filterwarnings(\"ignore\")"
      ]
    },
    {
      "cell_type": "code",
      "execution_count": null,
      "metadata": {
        "id": "QcSr-8MutszR",
        "colab": {
          "base_uri": "https://localhost:8080/"
        },
        "outputId": "b46ef410-1f4e-4a1f-8084-3a15a237439c"
      },
      "outputs": [
        {
          "output_type": "stream",
          "name": "stdout",
          "text": [
            "Mounted at /content/drive\n"
          ]
        }
      ],
      "source": [
        "from google.colab import drive\n",
        "drive.mount('/content/drive')"
      ]
    },
    {
      "cell_type": "code",
      "execution_count": null,
      "metadata": {
        "id": "jUYIeathujdD",
        "colab": {
          "base_uri": "https://localhost:8080/",
          "height": 1000
        },
        "outputId": "ae8873b8-9d70-4685-a60b-93805b0d5d32"
      },
      "outputs": [
        {
          "output_type": "execute_result",
          "data": {
            "text/plain": [
              "   complaint_id date_received  \\\n",
              "0       7045386    2023-05-31   \n",
              "1       7258681    2023-07-17   \n",
              "2       7282328    2023-07-20   \n",
              "3       7277782    2023-07-21   \n",
              "4       7050506    2023-05-31   \n",
              "5       7047944    2023-05-30   \n",
              "6       7044012    2023-05-29   \n",
              "7       7040231    2023-05-29   \n",
              "8       7051496    2023-06-01   \n",
              "9       7051431    2023-06-01   \n",
              "\n",
              "                                             product  \\\n",
              "0  Credit reporting, credit repair services, or o...   \n",
              "1                        Credit card or prepaid card   \n",
              "2  Credit reporting, credit repair services, or o...   \n",
              "3                                           Mortgage   \n",
              "4  Credit reporting, credit repair services, or o...   \n",
              "5  Credit reporting, credit repair services, or o...   \n",
              "6  Credit reporting, credit repair services, or o...   \n",
              "7  Credit reporting, credit repair services, or o...   \n",
              "8  Credit reporting, credit repair services, or o...   \n",
              "9  Credit reporting, credit repair services, or o...   \n",
              "\n",
              "                                               issue  \\\n",
              "0  Problem with a credit reporting company's inve...   \n",
              "1                               Closing your account   \n",
              "2               Incorrect information on your report   \n",
              "3                              Closing on a mortgage   \n",
              "4                        Improper use of your report   \n",
              "5               Incorrect information on your report   \n",
              "6   Unable to get your credit report or credit score   \n",
              "7  Problem with a credit reporting company's inve...   \n",
              "8  Problem with a credit reporting company's inve...   \n",
              "9                        Improper use of your report   \n",
              "\n",
              "                               company state submitted_via  \\\n",
              "0  Experian Information Solutions Inc.    VA           Web   \n",
              "1                  SYNCHRONY FINANCIAL    NY           Web   \n",
              "2  Experian Information Solutions Inc.    NC           Web   \n",
              "3       Lennar Financial Services, LLC    NV           Web   \n",
              "4                        EQUIFAX, INC.    LA           Web   \n",
              "5                        EQUIFAX, INC.    GA           Web   \n",
              "6                        EQUIFAX, INC.    FL           Web   \n",
              "7                        EQUIFAX, INC.    NC           Web   \n",
              "8                        EQUIFAX, INC.    KY           Web   \n",
              "9                        EQUIFAX, INC.    MD           Web   \n",
              "\n",
              "      company_response_to_consumer timely_response  consumer_disputed  \\\n",
              "0          Closed with explanation             Yes                NaN   \n",
              "1          Closed with explanation             Yes                NaN   \n",
              "2  Closed with non-monetary relief             Yes                NaN   \n",
              "3          Closed with explanation             Yes                NaN   \n",
              "4          Closed with explanation             Yes                NaN   \n",
              "5  Closed with non-monetary relief             Yes                NaN   \n",
              "6          Closed with explanation             Yes                NaN   \n",
              "7          Closed with explanation             Yes                NaN   \n",
              "8          Closed with explanation             Yes                NaN   \n",
              "9          Closed with explanation             Yes                NaN   \n",
              "\n",
              "                        consumer_complaint_narrative  \n",
              "0  I looked over my credit report and saw some in...  \n",
              "1  credit card was settled on XX/XX/2022 for the ...  \n",
              "2  XXXX XXXX XXXX XXXX is reporting an account wi...  \n",
              "3  Im relocation to XXXX I got transferred from m...  \n",
              "4  I have identified inquiries on my report are n...  \n",
              "5  Im submitting a complaint to you today to info...  \n",
              "6  ON about XX/XX/2023 I disputed inaccurate info...  \n",
              "7  I'm really not sure what happened. I have mail...  \n",
              "8  I checked my credit report and found that some...  \n",
              "9  Private court documents were unlawfully filed ...  "
            ],
            "text/html": [
              "\n",
              "\n",
              "  <div id=\"df-e1676bef-0a63-47dc-a232-cc4e05a6c938\">\n",
              "    <div class=\"colab-df-container\">\n",
              "      <div>\n",
              "<style scoped>\n",
              "    .dataframe tbody tr th:only-of-type {\n",
              "        vertical-align: middle;\n",
              "    }\n",
              "\n",
              "    .dataframe tbody tr th {\n",
              "        vertical-align: top;\n",
              "    }\n",
              "\n",
              "    .dataframe thead th {\n",
              "        text-align: right;\n",
              "    }\n",
              "</style>\n",
              "<table border=\"1\" class=\"dataframe\">\n",
              "  <thead>\n",
              "    <tr style=\"text-align: right;\">\n",
              "      <th></th>\n",
              "      <th>complaint_id</th>\n",
              "      <th>date_received</th>\n",
              "      <th>product</th>\n",
              "      <th>issue</th>\n",
              "      <th>company</th>\n",
              "      <th>state</th>\n",
              "      <th>submitted_via</th>\n",
              "      <th>company_response_to_consumer</th>\n",
              "      <th>timely_response</th>\n",
              "      <th>consumer_disputed</th>\n",
              "      <th>consumer_complaint_narrative</th>\n",
              "    </tr>\n",
              "  </thead>\n",
              "  <tbody>\n",
              "    <tr>\n",
              "      <th>0</th>\n",
              "      <td>7045386</td>\n",
              "      <td>2023-05-31</td>\n",
              "      <td>Credit reporting, credit repair services, or o...</td>\n",
              "      <td>Problem with a credit reporting company's inve...</td>\n",
              "      <td>Experian Information Solutions Inc.</td>\n",
              "      <td>VA</td>\n",
              "      <td>Web</td>\n",
              "      <td>Closed with explanation</td>\n",
              "      <td>Yes</td>\n",
              "      <td>NaN</td>\n",
              "      <td>I looked over my credit report and saw some in...</td>\n",
              "    </tr>\n",
              "    <tr>\n",
              "      <th>1</th>\n",
              "      <td>7258681</td>\n",
              "      <td>2023-07-17</td>\n",
              "      <td>Credit card or prepaid card</td>\n",
              "      <td>Closing your account</td>\n",
              "      <td>SYNCHRONY FINANCIAL</td>\n",
              "      <td>NY</td>\n",
              "      <td>Web</td>\n",
              "      <td>Closed with explanation</td>\n",
              "      <td>Yes</td>\n",
              "      <td>NaN</td>\n",
              "      <td>credit card was settled on XX/XX/2022 for the ...</td>\n",
              "    </tr>\n",
              "    <tr>\n",
              "      <th>2</th>\n",
              "      <td>7282328</td>\n",
              "      <td>2023-07-20</td>\n",
              "      <td>Credit reporting, credit repair services, or o...</td>\n",
              "      <td>Incorrect information on your report</td>\n",
              "      <td>Experian Information Solutions Inc.</td>\n",
              "      <td>NC</td>\n",
              "      <td>Web</td>\n",
              "      <td>Closed with non-monetary relief</td>\n",
              "      <td>Yes</td>\n",
              "      <td>NaN</td>\n",
              "      <td>XXXX XXXX XXXX XXXX is reporting an account wi...</td>\n",
              "    </tr>\n",
              "    <tr>\n",
              "      <th>3</th>\n",
              "      <td>7277782</td>\n",
              "      <td>2023-07-21</td>\n",
              "      <td>Mortgage</td>\n",
              "      <td>Closing on a mortgage</td>\n",
              "      <td>Lennar Financial Services, LLC</td>\n",
              "      <td>NV</td>\n",
              "      <td>Web</td>\n",
              "      <td>Closed with explanation</td>\n",
              "      <td>Yes</td>\n",
              "      <td>NaN</td>\n",
              "      <td>Im relocation to XXXX I got transferred from m...</td>\n",
              "    </tr>\n",
              "    <tr>\n",
              "      <th>4</th>\n",
              "      <td>7050506</td>\n",
              "      <td>2023-05-31</td>\n",
              "      <td>Credit reporting, credit repair services, or o...</td>\n",
              "      <td>Improper use of your report</td>\n",
              "      <td>EQUIFAX, INC.</td>\n",
              "      <td>LA</td>\n",
              "      <td>Web</td>\n",
              "      <td>Closed with explanation</td>\n",
              "      <td>Yes</td>\n",
              "      <td>NaN</td>\n",
              "      <td>I have identified inquiries on my report are n...</td>\n",
              "    </tr>\n",
              "    <tr>\n",
              "      <th>5</th>\n",
              "      <td>7047944</td>\n",
              "      <td>2023-05-30</td>\n",
              "      <td>Credit reporting, credit repair services, or o...</td>\n",
              "      <td>Incorrect information on your report</td>\n",
              "      <td>EQUIFAX, INC.</td>\n",
              "      <td>GA</td>\n",
              "      <td>Web</td>\n",
              "      <td>Closed with non-monetary relief</td>\n",
              "      <td>Yes</td>\n",
              "      <td>NaN</td>\n",
              "      <td>Im submitting a complaint to you today to info...</td>\n",
              "    </tr>\n",
              "    <tr>\n",
              "      <th>6</th>\n",
              "      <td>7044012</td>\n",
              "      <td>2023-05-29</td>\n",
              "      <td>Credit reporting, credit repair services, or o...</td>\n",
              "      <td>Unable to get your credit report or credit score</td>\n",
              "      <td>EQUIFAX, INC.</td>\n",
              "      <td>FL</td>\n",
              "      <td>Web</td>\n",
              "      <td>Closed with explanation</td>\n",
              "      <td>Yes</td>\n",
              "      <td>NaN</td>\n",
              "      <td>ON about XX/XX/2023 I disputed inaccurate info...</td>\n",
              "    </tr>\n",
              "    <tr>\n",
              "      <th>7</th>\n",
              "      <td>7040231</td>\n",
              "      <td>2023-05-29</td>\n",
              "      <td>Credit reporting, credit repair services, or o...</td>\n",
              "      <td>Problem with a credit reporting company's inve...</td>\n",
              "      <td>EQUIFAX, INC.</td>\n",
              "      <td>NC</td>\n",
              "      <td>Web</td>\n",
              "      <td>Closed with explanation</td>\n",
              "      <td>Yes</td>\n",
              "      <td>NaN</td>\n",
              "      <td>I'm really not sure what happened. I have mail...</td>\n",
              "    </tr>\n",
              "    <tr>\n",
              "      <th>8</th>\n",
              "      <td>7051496</td>\n",
              "      <td>2023-06-01</td>\n",
              "      <td>Credit reporting, credit repair services, or o...</td>\n",
              "      <td>Problem with a credit reporting company's inve...</td>\n",
              "      <td>EQUIFAX, INC.</td>\n",
              "      <td>KY</td>\n",
              "      <td>Web</td>\n",
              "      <td>Closed with explanation</td>\n",
              "      <td>Yes</td>\n",
              "      <td>NaN</td>\n",
              "      <td>I checked my credit report and found that some...</td>\n",
              "    </tr>\n",
              "    <tr>\n",
              "      <th>9</th>\n",
              "      <td>7051431</td>\n",
              "      <td>2023-06-01</td>\n",
              "      <td>Credit reporting, credit repair services, or o...</td>\n",
              "      <td>Improper use of your report</td>\n",
              "      <td>EQUIFAX, INC.</td>\n",
              "      <td>MD</td>\n",
              "      <td>Web</td>\n",
              "      <td>Closed with explanation</td>\n",
              "      <td>Yes</td>\n",
              "      <td>NaN</td>\n",
              "      <td>Private court documents were unlawfully filed ...</td>\n",
              "    </tr>\n",
              "  </tbody>\n",
              "</table>\n",
              "</div>\n",
              "      <button class=\"colab-df-convert\" onclick=\"convertToInteractive('df-e1676bef-0a63-47dc-a232-cc4e05a6c938')\"\n",
              "              title=\"Convert this dataframe to an interactive table.\"\n",
              "              style=\"display:none;\">\n",
              "\n",
              "  <svg xmlns=\"http://www.w3.org/2000/svg\" height=\"24px\"viewBox=\"0 0 24 24\"\n",
              "       width=\"24px\">\n",
              "    <path d=\"M0 0h24v24H0V0z\" fill=\"none\"/>\n",
              "    <path d=\"M18.56 5.44l.94 2.06.94-2.06 2.06-.94-2.06-.94-.94-2.06-.94 2.06-2.06.94zm-11 1L8.5 8.5l.94-2.06 2.06-.94-2.06-.94L8.5 2.5l-.94 2.06-2.06.94zm10 10l.94 2.06.94-2.06 2.06-.94-2.06-.94-.94-2.06-.94 2.06-2.06.94z\"/><path d=\"M17.41 7.96l-1.37-1.37c-.4-.4-.92-.59-1.43-.59-.52 0-1.04.2-1.43.59L10.3 9.45l-7.72 7.72c-.78.78-.78 2.05 0 2.83L4 21.41c.39.39.9.59 1.41.59.51 0 1.02-.2 1.41-.59l7.78-7.78 2.81-2.81c.8-.78.8-2.07 0-2.86zM5.41 20L4 18.59l7.72-7.72 1.47 1.35L5.41 20z\"/>\n",
              "  </svg>\n",
              "      </button>\n",
              "\n",
              "\n",
              "\n",
              "    <div id=\"df-cdf74f37-b1db-464f-a6ae-8ac3633e4e01\">\n",
              "      <button class=\"colab-df-quickchart\" onclick=\"quickchart('df-cdf74f37-b1db-464f-a6ae-8ac3633e4e01')\"\n",
              "              title=\"Suggest charts.\"\n",
              "              style=\"display:none;\">\n",
              "\n",
              "<svg xmlns=\"http://www.w3.org/2000/svg\" height=\"24px\"viewBox=\"0 0 24 24\"\n",
              "     width=\"24px\">\n",
              "    <g>\n",
              "        <path d=\"M19 3H5c-1.1 0-2 .9-2 2v14c0 1.1.9 2 2 2h14c1.1 0 2-.9 2-2V5c0-1.1-.9-2-2-2zM9 17H7v-7h2v7zm4 0h-2V7h2v10zm4 0h-2v-4h2v4z\"/>\n",
              "    </g>\n",
              "</svg>\n",
              "      </button>\n",
              "    </div>\n",
              "\n",
              "<style>\n",
              "  .colab-df-quickchart {\n",
              "    background-color: #E8F0FE;\n",
              "    border: none;\n",
              "    border-radius: 50%;\n",
              "    cursor: pointer;\n",
              "    display: none;\n",
              "    fill: #1967D2;\n",
              "    height: 32px;\n",
              "    padding: 0 0 0 0;\n",
              "    width: 32px;\n",
              "  }\n",
              "\n",
              "  .colab-df-quickchart:hover {\n",
              "    background-color: #E2EBFA;\n",
              "    box-shadow: 0px 1px 2px rgba(60, 64, 67, 0.3), 0px 1px 3px 1px rgba(60, 64, 67, 0.15);\n",
              "    fill: #174EA6;\n",
              "  }\n",
              "\n",
              "  [theme=dark] .colab-df-quickchart {\n",
              "    background-color: #3B4455;\n",
              "    fill: #D2E3FC;\n",
              "  }\n",
              "\n",
              "  [theme=dark] .colab-df-quickchart:hover {\n",
              "    background-color: #434B5C;\n",
              "    box-shadow: 0px 1px 3px 1px rgba(0, 0, 0, 0.15);\n",
              "    filter: drop-shadow(0px 1px 2px rgba(0, 0, 0, 0.3));\n",
              "    fill: #FFFFFF;\n",
              "  }\n",
              "</style>\n",
              "\n",
              "    <script>\n",
              "      async function quickchart(key) {\n",
              "        const containerElement = document.querySelector('#' + key);\n",
              "        const charts = await google.colab.kernel.invokeFunction(\n",
              "            'suggestCharts', [key], {});\n",
              "      }\n",
              "    </script>\n",
              "\n",
              "      <script>\n",
              "\n",
              "function displayQuickchartButton(domScope) {\n",
              "  let quickchartButtonEl =\n",
              "    domScope.querySelector('#df-cdf74f37-b1db-464f-a6ae-8ac3633e4e01 button.colab-df-quickchart');\n",
              "  quickchartButtonEl.style.display =\n",
              "    google.colab.kernel.accessAllowed ? 'block' : 'none';\n",
              "}\n",
              "\n",
              "        displayQuickchartButton(document);\n",
              "      </script>\n",
              "      <style>\n",
              "    .colab-df-container {\n",
              "      display:flex;\n",
              "      flex-wrap:wrap;\n",
              "      gap: 12px;\n",
              "    }\n",
              "\n",
              "    .colab-df-convert {\n",
              "      background-color: #E8F0FE;\n",
              "      border: none;\n",
              "      border-radius: 50%;\n",
              "      cursor: pointer;\n",
              "      display: none;\n",
              "      fill: #1967D2;\n",
              "      height: 32px;\n",
              "      padding: 0 0 0 0;\n",
              "      width: 32px;\n",
              "    }\n",
              "\n",
              "    .colab-df-convert:hover {\n",
              "      background-color: #E2EBFA;\n",
              "      box-shadow: 0px 1px 2px rgba(60, 64, 67, 0.3), 0px 1px 3px 1px rgba(60, 64, 67, 0.15);\n",
              "      fill: #174EA6;\n",
              "    }\n",
              "\n",
              "    [theme=dark] .colab-df-convert {\n",
              "      background-color: #3B4455;\n",
              "      fill: #D2E3FC;\n",
              "    }\n",
              "\n",
              "    [theme=dark] .colab-df-convert:hover {\n",
              "      background-color: #434B5C;\n",
              "      box-shadow: 0px 1px 3px 1px rgba(0, 0, 0, 0.15);\n",
              "      filter: drop-shadow(0px 1px 2px rgba(0, 0, 0, 0.3));\n",
              "      fill: #FFFFFF;\n",
              "    }\n",
              "  </style>\n",
              "\n",
              "      <script>\n",
              "        const buttonEl =\n",
              "          document.querySelector('#df-e1676bef-0a63-47dc-a232-cc4e05a6c938 button.colab-df-convert');\n",
              "        buttonEl.style.display =\n",
              "          google.colab.kernel.accessAllowed ? 'block' : 'none';\n",
              "\n",
              "        async function convertToInteractive(key) {\n",
              "          const element = document.querySelector('#df-e1676bef-0a63-47dc-a232-cc4e05a6c938');\n",
              "          const dataTable =\n",
              "            await google.colab.kernel.invokeFunction('convertToInteractive',\n",
              "                                                     [key], {});\n",
              "          if (!dataTable) return;\n",
              "\n",
              "          const docLinkHtml = 'Like what you see? Visit the ' +\n",
              "            '<a target=\"_blank\" href=https://colab.research.google.com/notebooks/data_table.ipynb>data table notebook</a>'\n",
              "            + ' to learn more about interactive tables.';\n",
              "          element.innerHTML = '';\n",
              "          dataTable['output_type'] = 'display_data';\n",
              "          await google.colab.output.renderOutput(dataTable, element);\n",
              "          const docLink = document.createElement('div');\n",
              "          docLink.innerHTML = docLinkHtml;\n",
              "          element.appendChild(docLink);\n",
              "        }\n",
              "      </script>\n",
              "    </div>\n",
              "  </div>\n"
            ]
          },
          "metadata": {},
          "execution_count": 4
        }
      ],
      "source": [
        "df = pd.read_csv(\"/content/sample_data.csv\")\n",
        "df.head(10)"
      ]
    },
    {
      "cell_type": "code",
      "execution_count": null,
      "metadata": {
        "id": "3in4zJ57u0iE",
        "colab": {
          "base_uri": "https://localhost:8080/"
        },
        "outputId": "b3ea6cc0-cee4-4e90-eb13-f3332edf1dfc"
      },
      "outputs": [
        {
          "output_type": "execute_result",
          "data": {
            "text/plain": [
              "(4807, 11)"
            ]
          },
          "metadata": {},
          "execution_count": 5
        }
      ],
      "source": [
        "# check for dimensions\n",
        "df.shape"
      ]
    },
    {
      "cell_type": "code",
      "execution_count": null,
      "metadata": {
        "id": "pipKVmkovHHK",
        "colab": {
          "base_uri": "https://localhost:8080/"
        },
        "outputId": "b02fdb81-3baf-45ef-c5c8-e146145c2b32"
      },
      "outputs": [
        {
          "output_type": "execute_result",
          "data": {
            "text/plain": [
              "Index(['complaint_id', 'date_received', 'product', 'issue', 'company', 'state',\n",
              "       'submitted_via', 'company_response_to_consumer', 'timely_response',\n",
              "       'consumer_disputed', 'consumer_complaint_narrative'],\n",
              "      dtype='object')"
            ]
          },
          "metadata": {},
          "execution_count": 6
        }
      ],
      "source": [
        "# check for columns\n",
        "df.columns"
      ]
    },
    {
      "cell_type": "code",
      "execution_count": null,
      "metadata": {
        "id": "04TiNF5_vMH3",
        "colab": {
          "base_uri": "https://localhost:8080/"
        },
        "outputId": "993d3483-1e8b-4ec1-aa53-8d1fdc0576d3"
      },
      "outputs": [
        {
          "output_type": "execute_result",
          "data": {
            "text/plain": [
              "complaint_id                      int64\n",
              "date_received                    object\n",
              "product                          object\n",
              "issue                            object\n",
              "company                          object\n",
              "state                            object\n",
              "submitted_via                    object\n",
              "company_response_to_consumer     object\n",
              "timely_response                  object\n",
              "consumer_disputed               float64\n",
              "consumer_complaint_narrative     object\n",
              "dtype: object"
            ]
          },
          "metadata": {},
          "execution_count": 7
        }
      ],
      "source": [
        "# check for datatypes\n",
        "df.dtypes"
      ]
    },
    {
      "cell_type": "code",
      "execution_count": null,
      "metadata": {
        "id": "OC0OoCmEvPDY",
        "colab": {
          "base_uri": "https://localhost:8080/",
          "height": 545
        },
        "outputId": "1937b020-fcb8-41a0-fdd9-9de904ff2c56"
      },
      "outputs": [
        {
          "output_type": "execute_result",
          "data": {
            "text/plain": [
              "        complaint_id date_received  \\\n",
              "count   4.807000e+03          4807   \n",
              "unique           NaN           401   \n",
              "top              NaN    2019-03-05   \n",
              "freq             NaN           330   \n",
              "mean    3.627919e+06           NaN   \n",
              "std     9.838054e+05           NaN   \n",
              "min     2.733793e+06           NaN   \n",
              "25%     3.170451e+06           NaN   \n",
              "50%     3.343982e+06           NaN   \n",
              "75%     3.511786e+06           NaN   \n",
              "max     7.287025e+06           NaN   \n",
              "\n",
              "                                                  product  \\\n",
              "count                                                4807   \n",
              "unique                                                  9   \n",
              "top     Credit reporting, credit repair services, or o...   \n",
              "freq                                                 2187   \n",
              "mean                                                  NaN   \n",
              "std                                                   NaN   \n",
              "min                                                   NaN   \n",
              "25%                                                   NaN   \n",
              "50%                                                   NaN   \n",
              "75%                                                   NaN   \n",
              "max                                                   NaN   \n",
              "\n",
              "                                       issue  \\\n",
              "count                                   4807   \n",
              "unique                                    68   \n",
              "top     Incorrect information on your report   \n",
              "freq                                    1141   \n",
              "mean                                     NaN   \n",
              "std                                      NaN   \n",
              "min                                      NaN   \n",
              "25%                                      NaN   \n",
              "50%                                      NaN   \n",
              "75%                                      NaN   \n",
              "max                                      NaN   \n",
              "\n",
              "                                    company state submitted_via  \\\n",
              "count                                  4807  4795          4807   \n",
              "unique                                  600    55             1   \n",
              "top     Experian Information Solutions Inc.    CA           Web   \n",
              "freq                                    620   613          4807   \n",
              "mean                                    NaN   NaN           NaN   \n",
              "std                                     NaN   NaN           NaN   \n",
              "min                                     NaN   NaN           NaN   \n",
              "25%                                     NaN   NaN           NaN   \n",
              "50%                                     NaN   NaN           NaN   \n",
              "75%                                     NaN   NaN           NaN   \n",
              "max                                     NaN   NaN           NaN   \n",
              "\n",
              "       company_response_to_consumer timely_response  consumer_disputed  \\\n",
              "count                          4807            4807                0.0   \n",
              "unique                            5               2                NaN   \n",
              "top         Closed with explanation             Yes                NaN   \n",
              "freq                           3886            4738                NaN   \n",
              "mean                            NaN             NaN                NaN   \n",
              "std                             NaN             NaN                NaN   \n",
              "min                             NaN             NaN                NaN   \n",
              "25%                             NaN             NaN                NaN   \n",
              "50%                             NaN             NaN                NaN   \n",
              "75%                             NaN             NaN                NaN   \n",
              "max                             NaN             NaN                NaN   \n",
              "\n",
              "                             consumer_complaint_narrative  \n",
              "count                                                4807  \n",
              "unique                                               4690  \n",
              "top     The credit bureaus are reporting inaccurate/ou...  \n",
              "freq                                                    6  \n",
              "mean                                                  NaN  \n",
              "std                                                   NaN  \n",
              "min                                                   NaN  \n",
              "25%                                                   NaN  \n",
              "50%                                                   NaN  \n",
              "75%                                                   NaN  \n",
              "max                                                   NaN  "
            ],
            "text/html": [
              "\n",
              "\n",
              "  <div id=\"df-db59c3da-30a1-4d2e-b2e6-5a8ea3b52c5d\">\n",
              "    <div class=\"colab-df-container\">\n",
              "      <div>\n",
              "<style scoped>\n",
              "    .dataframe tbody tr th:only-of-type {\n",
              "        vertical-align: middle;\n",
              "    }\n",
              "\n",
              "    .dataframe tbody tr th {\n",
              "        vertical-align: top;\n",
              "    }\n",
              "\n",
              "    .dataframe thead th {\n",
              "        text-align: right;\n",
              "    }\n",
              "</style>\n",
              "<table border=\"1\" class=\"dataframe\">\n",
              "  <thead>\n",
              "    <tr style=\"text-align: right;\">\n",
              "      <th></th>\n",
              "      <th>complaint_id</th>\n",
              "      <th>date_received</th>\n",
              "      <th>product</th>\n",
              "      <th>issue</th>\n",
              "      <th>company</th>\n",
              "      <th>state</th>\n",
              "      <th>submitted_via</th>\n",
              "      <th>company_response_to_consumer</th>\n",
              "      <th>timely_response</th>\n",
              "      <th>consumer_disputed</th>\n",
              "      <th>consumer_complaint_narrative</th>\n",
              "    </tr>\n",
              "  </thead>\n",
              "  <tbody>\n",
              "    <tr>\n",
              "      <th>count</th>\n",
              "      <td>4.807000e+03</td>\n",
              "      <td>4807</td>\n",
              "      <td>4807</td>\n",
              "      <td>4807</td>\n",
              "      <td>4807</td>\n",
              "      <td>4795</td>\n",
              "      <td>4807</td>\n",
              "      <td>4807</td>\n",
              "      <td>4807</td>\n",
              "      <td>0.0</td>\n",
              "      <td>4807</td>\n",
              "    </tr>\n",
              "    <tr>\n",
              "      <th>unique</th>\n",
              "      <td>NaN</td>\n",
              "      <td>401</td>\n",
              "      <td>9</td>\n",
              "      <td>68</td>\n",
              "      <td>600</td>\n",
              "      <td>55</td>\n",
              "      <td>1</td>\n",
              "      <td>5</td>\n",
              "      <td>2</td>\n",
              "      <td>NaN</td>\n",
              "      <td>4690</td>\n",
              "    </tr>\n",
              "    <tr>\n",
              "      <th>top</th>\n",
              "      <td>NaN</td>\n",
              "      <td>2019-03-05</td>\n",
              "      <td>Credit reporting, credit repair services, or o...</td>\n",
              "      <td>Incorrect information on your report</td>\n",
              "      <td>Experian Information Solutions Inc.</td>\n",
              "      <td>CA</td>\n",
              "      <td>Web</td>\n",
              "      <td>Closed with explanation</td>\n",
              "      <td>Yes</td>\n",
              "      <td>NaN</td>\n",
              "      <td>The credit bureaus are reporting inaccurate/ou...</td>\n",
              "    </tr>\n",
              "    <tr>\n",
              "      <th>freq</th>\n",
              "      <td>NaN</td>\n",
              "      <td>330</td>\n",
              "      <td>2187</td>\n",
              "      <td>1141</td>\n",
              "      <td>620</td>\n",
              "      <td>613</td>\n",
              "      <td>4807</td>\n",
              "      <td>3886</td>\n",
              "      <td>4738</td>\n",
              "      <td>NaN</td>\n",
              "      <td>6</td>\n",
              "    </tr>\n",
              "    <tr>\n",
              "      <th>mean</th>\n",
              "      <td>3.627919e+06</td>\n",
              "      <td>NaN</td>\n",
              "      <td>NaN</td>\n",
              "      <td>NaN</td>\n",
              "      <td>NaN</td>\n",
              "      <td>NaN</td>\n",
              "      <td>NaN</td>\n",
              "      <td>NaN</td>\n",
              "      <td>NaN</td>\n",
              "      <td>NaN</td>\n",
              "      <td>NaN</td>\n",
              "    </tr>\n",
              "    <tr>\n",
              "      <th>std</th>\n",
              "      <td>9.838054e+05</td>\n",
              "      <td>NaN</td>\n",
              "      <td>NaN</td>\n",
              "      <td>NaN</td>\n",
              "      <td>NaN</td>\n",
              "      <td>NaN</td>\n",
              "      <td>NaN</td>\n",
              "      <td>NaN</td>\n",
              "      <td>NaN</td>\n",
              "      <td>NaN</td>\n",
              "      <td>NaN</td>\n",
              "    </tr>\n",
              "    <tr>\n",
              "      <th>min</th>\n",
              "      <td>2.733793e+06</td>\n",
              "      <td>NaN</td>\n",
              "      <td>NaN</td>\n",
              "      <td>NaN</td>\n",
              "      <td>NaN</td>\n",
              "      <td>NaN</td>\n",
              "      <td>NaN</td>\n",
              "      <td>NaN</td>\n",
              "      <td>NaN</td>\n",
              "      <td>NaN</td>\n",
              "      <td>NaN</td>\n",
              "    </tr>\n",
              "    <tr>\n",
              "      <th>25%</th>\n",
              "      <td>3.170451e+06</td>\n",
              "      <td>NaN</td>\n",
              "      <td>NaN</td>\n",
              "      <td>NaN</td>\n",
              "      <td>NaN</td>\n",
              "      <td>NaN</td>\n",
              "      <td>NaN</td>\n",
              "      <td>NaN</td>\n",
              "      <td>NaN</td>\n",
              "      <td>NaN</td>\n",
              "      <td>NaN</td>\n",
              "    </tr>\n",
              "    <tr>\n",
              "      <th>50%</th>\n",
              "      <td>3.343982e+06</td>\n",
              "      <td>NaN</td>\n",
              "      <td>NaN</td>\n",
              "      <td>NaN</td>\n",
              "      <td>NaN</td>\n",
              "      <td>NaN</td>\n",
              "      <td>NaN</td>\n",
              "      <td>NaN</td>\n",
              "      <td>NaN</td>\n",
              "      <td>NaN</td>\n",
              "      <td>NaN</td>\n",
              "    </tr>\n",
              "    <tr>\n",
              "      <th>75%</th>\n",
              "      <td>3.511786e+06</td>\n",
              "      <td>NaN</td>\n",
              "      <td>NaN</td>\n",
              "      <td>NaN</td>\n",
              "      <td>NaN</td>\n",
              "      <td>NaN</td>\n",
              "      <td>NaN</td>\n",
              "      <td>NaN</td>\n",
              "      <td>NaN</td>\n",
              "      <td>NaN</td>\n",
              "      <td>NaN</td>\n",
              "    </tr>\n",
              "    <tr>\n",
              "      <th>max</th>\n",
              "      <td>7.287025e+06</td>\n",
              "      <td>NaN</td>\n",
              "      <td>NaN</td>\n",
              "      <td>NaN</td>\n",
              "      <td>NaN</td>\n",
              "      <td>NaN</td>\n",
              "      <td>NaN</td>\n",
              "      <td>NaN</td>\n",
              "      <td>NaN</td>\n",
              "      <td>NaN</td>\n",
              "      <td>NaN</td>\n",
              "    </tr>\n",
              "  </tbody>\n",
              "</table>\n",
              "</div>\n",
              "      <button class=\"colab-df-convert\" onclick=\"convertToInteractive('df-db59c3da-30a1-4d2e-b2e6-5a8ea3b52c5d')\"\n",
              "              title=\"Convert this dataframe to an interactive table.\"\n",
              "              style=\"display:none;\">\n",
              "\n",
              "  <svg xmlns=\"http://www.w3.org/2000/svg\" height=\"24px\"viewBox=\"0 0 24 24\"\n",
              "       width=\"24px\">\n",
              "    <path d=\"M0 0h24v24H0V0z\" fill=\"none\"/>\n",
              "    <path d=\"M18.56 5.44l.94 2.06.94-2.06 2.06-.94-2.06-.94-.94-2.06-.94 2.06-2.06.94zm-11 1L8.5 8.5l.94-2.06 2.06-.94-2.06-.94L8.5 2.5l-.94 2.06-2.06.94zm10 10l.94 2.06.94-2.06 2.06-.94-2.06-.94-.94-2.06-.94 2.06-2.06.94z\"/><path d=\"M17.41 7.96l-1.37-1.37c-.4-.4-.92-.59-1.43-.59-.52 0-1.04.2-1.43.59L10.3 9.45l-7.72 7.72c-.78.78-.78 2.05 0 2.83L4 21.41c.39.39.9.59 1.41.59.51 0 1.02-.2 1.41-.59l7.78-7.78 2.81-2.81c.8-.78.8-2.07 0-2.86zM5.41 20L4 18.59l7.72-7.72 1.47 1.35L5.41 20z\"/>\n",
              "  </svg>\n",
              "      </button>\n",
              "\n",
              "\n",
              "\n",
              "    <div id=\"df-353f97bc-b658-4802-9b7a-2fad3cebf65d\">\n",
              "      <button class=\"colab-df-quickchart\" onclick=\"quickchart('df-353f97bc-b658-4802-9b7a-2fad3cebf65d')\"\n",
              "              title=\"Suggest charts.\"\n",
              "              style=\"display:none;\">\n",
              "\n",
              "<svg xmlns=\"http://www.w3.org/2000/svg\" height=\"24px\"viewBox=\"0 0 24 24\"\n",
              "     width=\"24px\">\n",
              "    <g>\n",
              "        <path d=\"M19 3H5c-1.1 0-2 .9-2 2v14c0 1.1.9 2 2 2h14c1.1 0 2-.9 2-2V5c0-1.1-.9-2-2-2zM9 17H7v-7h2v7zm4 0h-2V7h2v10zm4 0h-2v-4h2v4z\"/>\n",
              "    </g>\n",
              "</svg>\n",
              "      </button>\n",
              "    </div>\n",
              "\n",
              "<style>\n",
              "  .colab-df-quickchart {\n",
              "    background-color: #E8F0FE;\n",
              "    border: none;\n",
              "    border-radius: 50%;\n",
              "    cursor: pointer;\n",
              "    display: none;\n",
              "    fill: #1967D2;\n",
              "    height: 32px;\n",
              "    padding: 0 0 0 0;\n",
              "    width: 32px;\n",
              "  }\n",
              "\n",
              "  .colab-df-quickchart:hover {\n",
              "    background-color: #E2EBFA;\n",
              "    box-shadow: 0px 1px 2px rgba(60, 64, 67, 0.3), 0px 1px 3px 1px rgba(60, 64, 67, 0.15);\n",
              "    fill: #174EA6;\n",
              "  }\n",
              "\n",
              "  [theme=dark] .colab-df-quickchart {\n",
              "    background-color: #3B4455;\n",
              "    fill: #D2E3FC;\n",
              "  }\n",
              "\n",
              "  [theme=dark] .colab-df-quickchart:hover {\n",
              "    background-color: #434B5C;\n",
              "    box-shadow: 0px 1px 3px 1px rgba(0, 0, 0, 0.15);\n",
              "    filter: drop-shadow(0px 1px 2px rgba(0, 0, 0, 0.3));\n",
              "    fill: #FFFFFF;\n",
              "  }\n",
              "</style>\n",
              "\n",
              "    <script>\n",
              "      async function quickchart(key) {\n",
              "        const containerElement = document.querySelector('#' + key);\n",
              "        const charts = await google.colab.kernel.invokeFunction(\n",
              "            'suggestCharts', [key], {});\n",
              "      }\n",
              "    </script>\n",
              "\n",
              "      <script>\n",
              "\n",
              "function displayQuickchartButton(domScope) {\n",
              "  let quickchartButtonEl =\n",
              "    domScope.querySelector('#df-353f97bc-b658-4802-9b7a-2fad3cebf65d button.colab-df-quickchart');\n",
              "  quickchartButtonEl.style.display =\n",
              "    google.colab.kernel.accessAllowed ? 'block' : 'none';\n",
              "}\n",
              "\n",
              "        displayQuickchartButton(document);\n",
              "      </script>\n",
              "      <style>\n",
              "    .colab-df-container {\n",
              "      display:flex;\n",
              "      flex-wrap:wrap;\n",
              "      gap: 12px;\n",
              "    }\n",
              "\n",
              "    .colab-df-convert {\n",
              "      background-color: #E8F0FE;\n",
              "      border: none;\n",
              "      border-radius: 50%;\n",
              "      cursor: pointer;\n",
              "      display: none;\n",
              "      fill: #1967D2;\n",
              "      height: 32px;\n",
              "      padding: 0 0 0 0;\n",
              "      width: 32px;\n",
              "    }\n",
              "\n",
              "    .colab-df-convert:hover {\n",
              "      background-color: #E2EBFA;\n",
              "      box-shadow: 0px 1px 2px rgba(60, 64, 67, 0.3), 0px 1px 3px 1px rgba(60, 64, 67, 0.15);\n",
              "      fill: #174EA6;\n",
              "    }\n",
              "\n",
              "    [theme=dark] .colab-df-convert {\n",
              "      background-color: #3B4455;\n",
              "      fill: #D2E3FC;\n",
              "    }\n",
              "\n",
              "    [theme=dark] .colab-df-convert:hover {\n",
              "      background-color: #434B5C;\n",
              "      box-shadow: 0px 1px 3px 1px rgba(0, 0, 0, 0.15);\n",
              "      filter: drop-shadow(0px 1px 2px rgba(0, 0, 0, 0.3));\n",
              "      fill: #FFFFFF;\n",
              "    }\n",
              "  </style>\n",
              "\n",
              "      <script>\n",
              "        const buttonEl =\n",
              "          document.querySelector('#df-db59c3da-30a1-4d2e-b2e6-5a8ea3b52c5d button.colab-df-convert');\n",
              "        buttonEl.style.display =\n",
              "          google.colab.kernel.accessAllowed ? 'block' : 'none';\n",
              "\n",
              "        async function convertToInteractive(key) {\n",
              "          const element = document.querySelector('#df-db59c3da-30a1-4d2e-b2e6-5a8ea3b52c5d');\n",
              "          const dataTable =\n",
              "            await google.colab.kernel.invokeFunction('convertToInteractive',\n",
              "                                                     [key], {});\n",
              "          if (!dataTable) return;\n",
              "\n",
              "          const docLinkHtml = 'Like what you see? Visit the ' +\n",
              "            '<a target=\"_blank\" href=https://colab.research.google.com/notebooks/data_table.ipynb>data table notebook</a>'\n",
              "            + ' to learn more about interactive tables.';\n",
              "          element.innerHTML = '';\n",
              "          dataTable['output_type'] = 'display_data';\n",
              "          await google.colab.output.renderOutput(dataTable, element);\n",
              "          const docLink = document.createElement('div');\n",
              "          docLink.innerHTML = docLinkHtml;\n",
              "          element.appendChild(docLink);\n",
              "        }\n",
              "      </script>\n",
              "    </div>\n",
              "  </div>\n"
            ]
          },
          "metadata": {},
          "execution_count": 8
        }
      ],
      "source": [
        "# summary of key statistical measures for numerical columns in a dataset, aiding in quick data assessment and initial insights\n",
        "df.describe(include='all')"
      ]
    },
    {
      "cell_type": "code",
      "execution_count": null,
      "metadata": {
        "id": "50lBr5ZwvSuS",
        "colab": {
          "base_uri": "https://localhost:8080/"
        },
        "outputId": "2c247836-3c6f-4277-d7ff-1d41d775331c"
      },
      "outputs": [
        {
          "output_type": "execute_result",
          "data": {
            "text/plain": [
              "complaint_id                      0.000000\n",
              "date_received                     0.000000\n",
              "product                           0.000000\n",
              "issue                             0.000000\n",
              "company                           0.000000\n",
              "state                             0.249636\n",
              "submitted_via                     0.000000\n",
              "company_response_to_consumer      0.000000\n",
              "timely_response                   0.000000\n",
              "consumer_disputed               100.000000\n",
              "consumer_complaint_narrative      0.000000\n",
              "dtype: float64"
            ]
          },
          "metadata": {},
          "execution_count": 9
        }
      ],
      "source": [
        "#calculate percentage of missing values\n",
        "df.isnull().sum()/df.shape[0]*100"
      ]
    },
    {
      "cell_type": "code",
      "execution_count": null,
      "metadata": {
        "id": "HFN_w6ovv4jo",
        "colab": {
          "base_uri": "https://localhost:8080/"
        },
        "outputId": "7bff226f-9572-447a-f4b0-1b866cdb5f94"
      },
      "outputs": [
        {
          "output_type": "execute_result",
          "data": {
            "text/plain": [
              "(4807, 11)"
            ]
          },
          "metadata": {},
          "execution_count": 10
        }
      ],
      "source": [
        "df = df[pd.notnull(df['consumer_complaint_narrative'])]\n",
        "df.shape"
      ]
    },
    {
      "cell_type": "code",
      "execution_count": null,
      "metadata": {
        "id": "-lAkj-rB5Doz",
        "colab": {
          "base_uri": "https://localhost:8080/"
        },
        "outputId": "f824c66e-6dec-4fd2-971f-08d94abcd382"
      },
      "outputs": [
        {
          "output_type": "execute_result",
          "data": {
            "text/plain": [
              "9"
            ]
          },
          "metadata": {},
          "execution_count": 11
        }
      ],
      "source": [
        "df[\"product\"].nunique()"
      ]
    },
    {
      "cell_type": "code",
      "execution_count": null,
      "metadata": {
        "id": "zn_-p0Bs5KRl",
        "colab": {
          "base_uri": "https://localhost:8080/"
        },
        "outputId": "f0b0b5b0-16fc-4ba5-d056-945a87767a69"
      },
      "outputs": [
        {
          "output_type": "execute_result",
          "data": {
            "text/plain": [
              "array(['Credit reporting, credit repair services, or other personal consumer reports',\n",
              "       'Credit card or prepaid card', 'Mortgage', 'Debt collection',\n",
              "       'Checking or savings account',\n",
              "       'Payday loan, title loan, or personal loan',\n",
              "       'Vehicle loan or lease',\n",
              "       'Money transfer, virtual currency, or money service',\n",
              "       'Student loan'], dtype=object)"
            ]
          },
          "metadata": {},
          "execution_count": 12
        }
      ],
      "source": [
        "df[\"product\"].unique()"
      ]
    },
    {
      "cell_type": "code",
      "source": [
        "# data preprocessing"
      ],
      "metadata": {
        "id": "fq8Zl01LVMEm"
      },
      "execution_count": null,
      "outputs": []
    },
    {
      "cell_type": "code",
      "execution_count": null,
      "metadata": {
        "id": "hheTtgS87Kd7"
      },
      "outputs": [],
      "source": [
        "df['consumer_complaint_narrative'] =df['consumer_complaint_narrative'].apply(lambda x: ' '.join([i.lower() for i in x.split()]))\n"
      ]
    },
    {
      "cell_type": "code",
      "execution_count": null,
      "metadata": {
        "id": "PyDc2GlX7QqN",
        "colab": {
          "base_uri": "https://localhost:8080/"
        },
        "outputId": "7ff7656d-ccce-4bdd-88c1-049891106a52"
      },
      "outputs": [
        {
          "output_type": "execute_result",
          "data": {
            "text/plain": [
              "1316    my card and idenity was comprimised i never us...\n",
              "1127    debt is no longer collectible since i already ...\n",
              "Name: consumer_complaint_narrative, dtype: object"
            ]
          },
          "metadata": {},
          "execution_count": 14
        }
      ],
      "source": [
        "df['consumer_complaint_narrative'].sample(2)\n"
      ]
    },
    {
      "cell_type": "code",
      "execution_count": null,
      "metadata": {
        "id": "RjoI1aWm8K98"
      },
      "outputs": [],
      "source": [
        "df['consumer_complaint_narrative'] =df['consumer_complaint_narrative'].str.replace(r'[^\\w\\s]',\"\")\n"
      ]
    },
    {
      "cell_type": "code",
      "execution_count": null,
      "metadata": {
        "id": "JHdazik58LII",
        "colab": {
          "base_uri": "https://localhost:8080/"
        },
        "outputId": "90105661-2751-48bc-d3ff-40fffc9faf83"
      },
      "outputs": [
        {
          "output_type": "execute_result",
          "data": {
            "text/plain": [
              "3263    old national bank advertised a 20000 promotion...\n",
              "4236    in all started when i went to xxxx s to get gr...\n",
              "Name: consumer_complaint_narrative, dtype: object"
            ]
          },
          "metadata": {},
          "execution_count": 16
        }
      ],
      "source": [
        "df['consumer_complaint_narrative'].sample(2)\n"
      ]
    },
    {
      "cell_type": "code",
      "execution_count": null,
      "metadata": {
        "id": "kb8M-YqxCjuw",
        "colab": {
          "base_uri": "https://localhost:8080/"
        },
        "outputId": "caf30e71-f7e0-4e2f-f7af-9b78abfb8148"
      },
      "outputs": [
        {
          "output_type": "execute_result",
          "data": {
            "text/plain": [
              "0    i looked over my credit report and saw some in...\n",
              "1    credit card was settled on 2022 for the amount...\n",
              "2    is reporting an account with a balance and clo...\n",
              "3    im relocation to i got transferred from my emp...\n",
              "4    i have identified inquiries on my report are n...\n",
              "Name: consumer_complaint_narrative, dtype: object"
            ]
          },
          "metadata": {},
          "execution_count": 19
        }
      ],
      "source": [
        "df['consumer_complaint_narrative'] = df['consumer_complaint_narrative'].str.replace(r\"(?i)x+\\s*\", \"\", regex=True)\n",
        "df['consumer_complaint_narrative'].head(5)"
      ]
    },
    {
      "cell_type": "code",
      "execution_count": null,
      "metadata": {
        "id": "jQ_VeRHxFDU1",
        "colab": {
          "base_uri": "https://localhost:8080/"
        },
        "outputId": "6e6e322b-d0d5-4612-b450-05043a3f0657"
      },
      "outputs": [
        {
          "output_type": "execute_result",
          "data": {
            "text/plain": [
              "0    looked credit report saw inaccurate informatio...\n",
              "1    credit card settled 2022 amount 71000 card sti...\n",
              "2    reporting account balance closed account close...\n",
              "3    im relocation got transferred employer home to...\n",
              "4    identified inquiries report related transactio...\n",
              "Name: consumer_complaint_narrative, dtype: object"
            ]
          },
          "metadata": {},
          "execution_count": 20
        }
      ],
      "source": [
        "from nltk.corpus import stopwords\n",
        "stop = stopwords.words('english')\n",
        "df['consumer_complaint_narrative'] =df['consumer_complaint_narrative'].apply(lambda x: ' '.join([i for i in x.split() if i not in stop]))\n",
        "df['consumer_complaint_narrative'].head(5)"
      ]
    },
    {
      "cell_type": "code",
      "execution_count": null,
      "metadata": {
        "id": "Z9VjJSDT6ndF",
        "colab": {
          "base_uri": "https://localhost:8080/"
        },
        "outputId": "9b751ee8-dd08-4ff2-92a7-f1e7f42ee58f"
      },
      "outputs": [
        {
          "output_type": "stream",
          "name": "stderr",
          "text": [
            "[nltk_data] Downloading package punkt to /root/nltk_data...\n",
            "[nltk_data]   Unzipping tokenizers/punkt.zip.\n",
            "[nltk_data] Downloading package wordnet to /root/nltk_data...\n",
            "[nltk_data]   Package wordnet is already up-to-date!\n"
          ]
        },
        {
          "output_type": "execute_result",
          "data": {
            "text/plain": [
              "0    looked credit report saw inaccurate informatio...\n",
              "1    credit card settled 2022 amount 71000 card sti...\n",
              "Name: consumer_complaint_narrative, dtype: object"
            ]
          },
          "metadata": {},
          "execution_count": 21
        }
      ],
      "source": [
        "import nltk\n",
        "from nltk.stem import WordNetLemmatizer\n",
        "\n",
        "nltk.download('punkt')\n",
        "nltk.download('wordnet')\n",
        "\n",
        "def lemmatize_text(text):\n",
        "    words = nltk.word_tokenize(text)\n",
        "    lemmatizer = WordNetLemmatizer()\n",
        "    lemmatized_words = [lemmatizer.lemmatize(word) for word in words]\n",
        "    return ' '.join(lemmatized_words)\n",
        "\n",
        "# Apply lemmatization to the 'narration' column\n",
        "df['consumer_complaint_narrative'] = df['consumer_complaint_narrative'].apply(lemmatize_text)\n",
        "\n",
        "# Display the DataFrame with lemmatized narration\n",
        "df['consumer_complaint_narrative'].head(2)"
      ]
    },
    {
      "cell_type": "code",
      "execution_count": null,
      "metadata": {
        "id": "7fnpSRTT6tbn"
      },
      "outputs": [],
      "source": [
        "# Train/Test split\n"
      ]
    },
    {
      "cell_type": "code",
      "execution_count": null,
      "metadata": {
        "id": "cG74vhr66thG"
      },
      "outputs": [],
      "source": [
        "train_x, valid_x, train_y, valid_y = train_test_split(df['consumer_complaint_narrative'], df['product'],stratify=df['product'],\n",
        "                                                    test_size=0.25)"
      ]
    },
    {
      "cell_type": "code",
      "execution_count": null,
      "metadata": {
        "id": "d9a1S_q3Rlhb",
        "colab": {
          "base_uri": "https://localhost:8080/"
        },
        "outputId": "1e82ba73-59f7-4722-e74d-6eed4c34f783"
      },
      "outputs": [
        {
          "output_type": "execute_result",
          "data": {
            "text/plain": [
              "array(['Credit reporting, credit repair services, or other personal consumer reports',\n",
              "       'Credit card or prepaid card', 'Mortgage', 'Debt collection',\n",
              "       'Checking or savings account',\n",
              "       'Payday loan, title loan, or personal loan',\n",
              "       'Vehicle loan or lease',\n",
              "       'Money transfer, virtual currency, or money service',\n",
              "       'Student loan'], dtype=object)"
            ]
          },
          "metadata": {},
          "execution_count": 41
        }
      ],
      "source": [
        "df[\"product\"].unique()"
      ]
    },
    {
      "cell_type": "code",
      "execution_count": null,
      "metadata": {
        "id": "tij4vB7gSiF8",
        "colab": {
          "base_uri": "https://localhost:8080/"
        },
        "outputId": "f3eb3b7b-023f-44ba-bf90-8223923af165"
      },
      "outputs": [
        {
          "output_type": "stream",
          "name": "stdout",
          "text": [
            "3624    8\n",
            "271     3\n",
            "4239    1\n",
            "2779    0\n",
            "3961    0\n",
            "       ..\n",
            "2280    4\n",
            "1258    3\n",
            "2910    0\n",
            "2128    2\n",
            "4611    0\n",
            "Name: product, Length: 3605, dtype: int64\n"
          ]
        }
      ],
      "source": [
        "# Apply label encoding manually to train_y and valid_y\n",
        "label_mapping = {\n",
        "    \"Credit reporting, credit repair services, or other personal consumer reports\": 0,\n",
        "    \"Credit card or prepaid card\": 1,\n",
        "    \"Mortgage\": 2,  'Debt collection':3,\n",
        "       'Checking or savings account':4,\n",
        "       'Payday loan, title loan, or personal loan':5,\n",
        "       'Vehicle loan or lease':6,\n",
        "       'Money transfer, virtual currency, or money service':7,\n",
        "       'Student loan':8,\n",
        "}\n",
        "\n",
        "train_y = train_y.map(label_mapping)\n",
        "valid_y = valid_y.map(label_mapping)\n",
        "\n",
        "print(train_y)\n"
      ]
    },
    {
      "cell_type": "code",
      "execution_count": null,
      "metadata": {
        "id": "iK6oJs-96tj5"
      },
      "outputs": [],
      "source": [
        "# Feature engineering of consumer complaint with TF-IDF"
      ]
    },
    {
      "cell_type": "code",
      "execution_count": null,
      "metadata": {
        "id": "iFdQxvgTLxT7"
      },
      "outputs": [],
      "source": [
        "##tf-idf verctor representation\n",
        "tfidf_vect = TfidfVectorizer(analyzer='word', token_pattern=r'\\w{1,}', max_features=5000)\n",
        "tfidf_vect.fit(df['consumer_complaint_narrative'])\n",
        "xtrain_tfidf =  tfidf_vect.transform(train_x)\n",
        "xvalid_tfidf =  tfidf_vect.transform(valid_x)"
      ]
    },
    {
      "cell_type": "code",
      "execution_count": null,
      "metadata": {
        "id": "Jch6kKRzX85H",
        "colab": {
          "base_uri": "https://localhost:8080/"
        },
        "outputId": "b65bcc34-a3cf-49aa-fe42-10e28ec1dd57"
      },
      "outputs": [
        {
          "output_type": "stream",
          "name": "stdout",
          "text": [
            "(3605, 5000)\n",
            "(3605,)\n"
          ]
        }
      ],
      "source": [
        "print(xtrain_tfidf.shape)\n",
        "print(train_y.shape)"
      ]
    },
    {
      "cell_type": "code",
      "source": [
        "# Model Building and Evaluation of its performance"
      ],
      "metadata": {
        "id": "t3U4oLupOro_"
      },
      "execution_count": null,
      "outputs": []
    },
    {
      "cell_type": "code",
      "execution_count": null,
      "metadata": {
        "id": "y4tI5xhSXuVW",
        "colab": {
          "base_uri": "https://localhost:8080/"
        },
        "outputId": "28b9b06f-8edf-4701-8bad-36fef3164e93"
      },
      "outputs": [
        {
          "output_type": "stream",
          "name": "stdout",
          "text": [
            "Accuracy: 0.7895174708818635\n"
          ]
        }
      ],
      "source": [
        "from sklearn.linear_model import LogisticRegression\n",
        "from sklearn.metrics import accuracy_score\n",
        "\n",
        "# Build and train the Logistic Regression model\n",
        "logreg_model = LogisticRegression(max_iter=1000, random_state=42)\n",
        "logreg_model.fit(xtrain_tfidf, train_y)\n",
        "\n",
        "# Make predictions on the validation set\n",
        "predictions = logreg_model.predict(xvalid_tfidf)\n",
        "\n",
        "# Evaluate the model's performance\n",
        "accuracy = accuracy_score(valid_y, predictions)\n",
        "print(\"Accuracy:\", accuracy)\n"
      ]
    },
    {
      "cell_type": "code",
      "execution_count": null,
      "metadata": {
        "id": "yjiCJsVSXvAV",
        "colab": {
          "base_uri": "https://localhost:8080/"
        },
        "outputId": "98a75591-f2f7-486c-9356-d0edcc36f994"
      },
      "outputs": [
        {
          "output_type": "stream",
          "name": "stdout",
          "text": [
            "Classification Report:\n",
            "                                                                              precision    recall  f1-score   support\n",
            "\n",
            "Credit reporting, credit repair services, or other personal consumer reports       0.79      0.94      0.86       547\n",
            "                                                 Credit card or prepaid card       0.74      0.77      0.75       141\n",
            "                                                                    Mortgage       0.81      0.85      0.83       104\n",
            "                                                             Debt collection       0.79      0.67      0.72       205\n",
            "                                                 Checking or savings account       0.75      0.68      0.71        91\n",
            "                                   Payday loan, title loan, or personal loan       0.00      0.00      0.00        18\n",
            "                                                       Vehicle loan or lease       0.82      0.30      0.44        30\n",
            "                          Money transfer, virtual currency, or money service       1.00      0.32      0.49        28\n",
            "                                                                Student loan       0.96      0.61      0.74        38\n",
            "\n",
            "                                                                    accuracy                           0.79      1202\n",
            "                                                                   macro avg       0.74      0.57      0.62      1202\n",
            "                                                                weighted avg       0.78      0.79      0.77      1202\n",
            "\n"
          ]
        }
      ],
      "source": [
        "from sklearn.metrics import classification_report\n",
        "\n",
        "# Make predictions on the validation set\n",
        "predictions = logreg_model.predict(xvalid_tfidf)\n",
        "\n",
        "# Generate the classification report\n",
        "class_names = list(label_mapping.keys())\n",
        "report = classification_report(valid_y, predictions, target_names=class_names)\n",
        "\n",
        "print(\"Classification Report:\")\n",
        "print(report)\n"
      ]
    },
    {
      "cell_type": "code",
      "execution_count": null,
      "metadata": {
        "id": "CjM7PALmZGya",
        "colab": {
          "base_uri": "https://localhost:8080/",
          "height": 1000
        },
        "outputId": "82d402f3-aa0d-4ce2-aa22-a2aa6685d360"
      },
      "outputs": [
        {
          "output_type": "display_data",
          "data": {
            "text/plain": [
              "<Figure size 1000x800 with 2 Axes>"
            ],
            "image/png": "[encoded data removed]"
          },
          "metadata": {}
        }
      ],
      "source": [
        "# Generate the confusion matrix\n",
        "from sklearn.metrics import confusion_matrix\n",
        "conf_matrix = confusion_matrix(valid_y, predictions)\n",
        "\n",
        "# Create a heatmap to visualize the confusion matrix\n",
        "plt.figure(figsize=(10, 8))\n",
        "sns.heatmap(conf_matrix, annot=True, fmt='d', cmap='Blues', xticklabels=class_names, yticklabels=class_names)\n",
        "plt.xlabel('Predicted Labels')\n",
        "plt.ylabel('True Labels')\n",
        "plt.title('Confusion Matrix')\n",
        "plt.show()"
      ]
    },
    {
      "cell_type": "code",
      "source": [
        "from sklearn.model_selection import RandomizedSearchCV\n",
        "from scipy.stats import uniform\n",
        "\n",
        "# Define hyperparameters to tune\n",
        "param_dist = {\n",
        "    'C': uniform(loc=0.01, scale=2),  # Regularization parameter (uniform distribution between 0.01 and 2)\n",
        "    'solver': ['lbfgs', 'liblinear'],  # Optimization algorithm\n",
        "    'max_iter': [100, 500, 1000],  # Maximum number of iterations for convergence\n",
        "}\n",
        "\n",
        "# Initialize the logistic regression model\n",
        "logreg_model = LogisticRegression(random_state=42)\n",
        "\n",
        "# Create the randomized search with cross-validation\n",
        "random_search = RandomizedSearchCV(logreg_model, param_distributions=param_dist, n_iter=10, cv=5, n_jobs=-1, random_state=42)\n",
        "\n",
        "# Fit the randomized search to the training data\n",
        "random_search.fit(xtrain_tfidf, train_y)\n",
        "\n",
        "# Get the best hyperparameters and model\n",
        "best_params = random_search.best_params_\n",
        "best_logreg_model = random_search.best_estimator_\n",
        "\n",
        "# Make predictions on the validation set using the best model\n",
        "predictions = best_logreg_model.predict(xvalid_tfidf)\n",
        "\n",
        "# Evaluate the best model's performance\n",
        "accuracy = accuracy_score(valid_y, predictions)\n",
        "print(\"Best Hyperparameters:\", best_params)\n",
        "print(\"Best Model Accuracy:\", accuracy)\n",
        "\n",
        "# Generate the classification report for the best model\n",
        "report = classification_report(valid_y, predictions, target_names=class_names)\n",
        "print(\"Classification Report for Best Model:\")\n",
        "print(report)\n"
      ],
      "metadata": {
        "id": "IOxx_f8ebAmq",
        "colab": {
          "base_uri": "https://localhost:8080/"
        },
        "outputId": "4b5caf59-cf6e-43fa-826d-ff5a0b5d9dd7"
      },
      "execution_count": null,
      "outputs": [
        {
          "output_type": "stream",
          "name": "stdout",
          "text": [
            "Best Hyperparameters: {'C': 1.4739878836228102, 'max_iter': 100, 'solver': 'lbfgs'}\n",
            "Best Model Accuracy: 0.7953410981697171\n",
            "Classification Report for Best Model:\n",
            "                                                                              precision    recall  f1-score   support\n",
            "\n",
            "Credit reporting, credit repair services, or other personal consumer reports       0.80      0.94      0.86       547\n",
            "                                                 Credit card or prepaid card       0.74      0.77      0.75       141\n",
            "                                                                    Mortgage       0.81      0.86      0.83       104\n",
            "                                                             Debt collection       0.78      0.67      0.72       205\n",
            "                                                 Checking or savings account       0.78      0.70      0.74        91\n",
            "                                   Payday loan, title loan, or personal loan       0.00      0.00      0.00        18\n",
            "                                                       Vehicle loan or lease       0.82      0.30      0.44        30\n",
            "                          Money transfer, virtual currency, or money service       1.00      0.46      0.63        28\n",
            "                                                                Student loan       0.96      0.61      0.74        38\n",
            "\n",
            "                                                                    accuracy                           0.80      1202\n",
            "                                                                   macro avg       0.74      0.59      0.64      1202\n",
            "                                                                weighted avg       0.79      0.80      0.78      1202\n",
            "\n"
          ]
        }
      ]
    },
    {
      "cell_type": "code",
      "source": [
        "# save the model"
      ],
      "metadata": {
        "id": "aK8O9c5hPIYn"
      },
      "execution_count": null,
      "outputs": []
    },
    {
      "cell_type": "code",
      "execution_count": null,
      "metadata": {
        "id": "ZEtTwuyNuq9h"
      },
      "outputs": [],
      "source": [
        "import pickle\n",
        "\n",
        "# Assuming 'best_logreg_model' is the trained logistic regression model\n",
        "model_filename = 'best1_logreg_model.pkl'\n",
        "\n",
        "# Save the model to a pickle file\n",
        "with open(model_filename, 'wb') as file:\n",
        "    pickle.dump(best_logreg_model, file)\n"
      ]
    },
    {
      "cell_type": "code",
      "execution_count": null,
      "metadata": {
        "id": "gu2gu3H7urGk"
      },
      "outputs": [],
      "source": []
    },
    {
      "cell_type": "code",
      "execution_count": null,
      "metadata": {
        "id": "dy4jAnqlw3Tt"
      },
      "outputs": [],
      "source": []
    },
    {
      "cell_type": "code",
      "execution_count": null,
      "metadata": {
        "id": "0lGaddzZrzTj"
      },
      "outputs": [],
      "source": []
    }
  ],
  "metadata": {
    "colab": {
      "provenance": []
    },
    "kernelspec": {
      "display_name": "Python 3",
      "name": "python3"
    },
    "language_info": {
      "name": "python"
    }
  },
  "nbformat": 4,
  "nbformat_minor": 0
}